{
  "nbformat": 4,
  "nbformat_minor": 0,
  "metadata": {
    "colab": {
      "provenance": []
    },
    "kernelspec": {
      "name": "python3",
      "display_name": "Python 3"
    },
    "language_info": {
      "name": "python"
    }
  },
  "cells": [
    {
      "cell_type": "code",
      "execution_count": null,
      "metadata": {
        "colab": {
          "base_uri": "https://localhost:8080/"
        },
        "id": "NtgQw2U7iPML",
        "outputId": "fe0d8546-b310-4ba9-c3a4-a3b9191ed679"
      },
      "outputs": [
        {
          "output_type": "stream",
          "name": "stdout",
          "text": [
            "जरूर शेयर आपका feedback में द comment सेक्शन\n",
            "तो भी अगर यह है एक बड़ा video, मैं करूँगा स्पष्ट रूप से उल्लेख सभी द products.\n",
            "मैं था इंतजार के लिए मेरा bag.\n"
          ]
        }
      ],
      "source": [
        "def hinglish_translation(english_text):\n",
        "    # Step 1: Pre-defined dictionary for translation\n",
        "    translation_dict = {\n",
        "        \"definitely\": \"जरूर\",\n",
        "        \"share\": \"शेयर\",\n",
        "        \"your\": \"आपका\",\n",
        "        \"in\": \"में\",\n",
        "        \"the\": \"द\",\n",
        "        \"section\": \"सेक्शन\",\n",
        "        \"so\": \"तो\",\n",
        "        \"even\": \"भी\",\n",
        "        \"if\": \"अगर\",\n",
        "        \"it's\": \"यह है\",\n",
        "        \"a\": \"एक\",\n",
        "        \"big\": \"बड़ा\",\n",
        "        \"i\": \"मैं\",\n",
        "        \"will\": \"करूँगा\",\n",
        "        \"clearly\": \"स्पष्ट रूप से\",\n",
        "        \"mention\": \"उल्लेख\",\n",
        "        \"all\": \"सभी\",\n",
        "        \"was\": \"था\",\n",
        "        \"waiting\": \"इंतजार\",\n",
        "        \"for\": \"के लिए\",\n",
        "        \"my\": \"मेरा\"\n",
        "    }\n",
        "\n",
        "    # Step 2: Identify complex English words that will remain in English\n",
        "    complex_words = [\"demo\", \"headset\", \"feedback\", \"comment\", \"video\", \"products\", \"bag\"]\n",
        "\n",
        "    # Step 3: Translate words based on dictionary or keep as-is\n",
        "    hinglish_parts = []\n",
        "    for word in english_text.split():\n",
        "        lower_word = word.lower().strip(\".,!?\")\n",
        "        if lower_word in complex_words:\n",
        "            hinglish_parts.append(word)\n",
        "        elif lower_word in translation_dict:\n",
        "            hinglish_parts.append(translation_dict[lower_word])\n",
        "        else:\n",
        "            hinglish_parts.append(word)\n",
        "\n",
        "    return ' '.join(hinglish_parts)\n",
        "\n",
        "# Testing the function\n",
        "english_sentences = [\n",
        "    \"Definitely share your feedback in the comment section.\",\n",
        "    \"So even if it's a big video, I will clearly mention all the products.\",\n",
        "    \"I was waiting for my bag.\"\n",
        "]\n",
        "\n",
        "for sentence in english_sentences:\n",
        "    print(hinglish_translation(sentence))"
      ]
    }
  ]
}